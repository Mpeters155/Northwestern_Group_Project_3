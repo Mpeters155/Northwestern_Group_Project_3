{
 "cells": [
  {
   "cell_type": "code",
   "execution_count": 1,
   "id": "96de5e45-220c-44f5-84e9-f4d8bfd1689b",
   "metadata": {},
   "outputs": [],
   "source": [
    "# Import libraries\n",
    "import pandas as pd\n",
    "import numpy as np\n",
    "from nixtlats import TimeGPT\n",
    "import os\n",
    "from dotenv import load_dotenv, find_dotenv"
   ]
  },
  {
   "cell_type": "code",
   "execution_count": 7,
   "id": "4fce1d6a-699d-4e04-9880-fa9fde8d6f80",
   "metadata": {},
   "outputs": [
    {
     "data": {
      "text/plain": [
       "'C:\\\\Users\\\\Mike\\\\OneDrive\\\\FinTech-Bootcamp\\\\.env'"
      ]
     },
     "execution_count": 7,
     "metadata": {},
     "output_type": "execute_result"
    }
   ],
   "source": [
    "# Validating existence of .env file\n",
    "find_dotenv()"
   ]
  },
  {
   "cell_type": "code",
   "execution_count": 14,
   "id": "a225ffb9-bca7-430b-b524-513b311b778c",
   "metadata": {},
   "outputs": [
    {
     "data": {
      "text/plain": [
       "True"
      ]
     },
     "execution_count": 14,
     "metadata": {},
     "output_type": "execute_result"
    }
   ],
   "source": [
    "# Loading .env environment variables\n",
    "load_dotenv()"
   ]
  },
  {
   "cell_type": "code",
   "execution_count": 15,
   "id": "5a39c755-7730-41a2-acd3-8987c2cc70d1",
   "metadata": {},
   "outputs": [],
   "source": [
    "# Setting variable for TimeGPT_Token\n",
    "TimeGPT_Token = os.getenv(\"TIMEGPT_TOKEN\")"
   ]
  },
  {
   "cell_type": "code",
   "execution_count": 17,
   "id": "50530510-9632-4bc3-95f2-2a6f8820b944",
   "metadata": {},
   "outputs": [
    {
     "name": "stderr",
     "output_type": "stream",
     "text": [
      "INFO:nixtlats.timegpt:Happy Forecasting! :), If you have questions or need support, please email ops@nixtla.io\n"
     ]
    },
    {
     "data": {
      "text/plain": [
       "True"
      ]
     },
     "execution_count": 17,
     "metadata": {},
     "output_type": "execute_result"
    }
   ],
   "source": [
    "# Instantiating TimeGPT Model\n",
    "timegpt = TimeGPT(token = TimeGPT_Token)\n",
    "# Validating TimeGPT token\n",
    "timegpt.validate_token()"
   ]
  },
  {
   "cell_type": "code",
   "execution_count": null,
   "id": "41cc4a90-602d-4134-96fb-322ab3664cf3",
   "metadata": {},
   "outputs": [],
   "source": []
  }
 ],
 "metadata": {
  "kernelspec": {
   "display_name": "Python 3 (ipykernel)",
   "language": "python",
   "name": "python3"
  },
  "language_info": {
   "codemirror_mode": {
    "name": "ipython",
    "version": 3
   },
   "file_extension": ".py",
   "mimetype": "text/x-python",
   "name": "python",
   "nbconvert_exporter": "python",
   "pygments_lexer": "ipython3",
   "version": "3.11.8"
  }
 },
 "nbformat": 4,
 "nbformat_minor": 5
}
